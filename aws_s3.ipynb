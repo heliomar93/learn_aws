{
 "cells": [
  {
   "cell_type": "code",
   "execution_count": 1,
   "metadata": {
    "ExecuteTime": {
     "end_time": "2021-04-04T00:12:46.786142Z",
     "start_time": "2021-04-04T00:12:45.457349Z"
    }
   },
   "outputs": [],
   "source": [
    "#import boto3, the lib to work with aws on python\n",
    "import boto3"
   ]
  },
  {
   "cell_type": "code",
   "execution_count": 2,
   "metadata": {
    "ExecuteTime": {
     "end_time": "2021-04-04T00:14:57.084773Z",
     "start_time": "2021-04-04T00:14:56.365395Z"
    }
   },
   "outputs": [],
   "source": [
    "# call the client\n",
    "client = boto3.client('s3')"
   ]
  },
  {
   "cell_type": "code",
   "execution_count": 8,
   "metadata": {
    "ExecuteTime": {
     "end_time": "2021-04-04T00:29:23.431080Z",
     "start_time": "2021-04-04T00:29:20.622656Z"
    }
   },
   "outputs": [
    {
     "data": {
      "text/plain": [
       "{'ResponseMetadata': {'RequestId': 'PPEE2EW1BD7KPHNJ',\n",
       "  'HostId': 'O1HehM6ElwVrdF8v1i/la5zNRo68Vnia/iVSkArcRYBilSAlpMlqgr2fLPXLx/YYH2Urr9Ak/8E=',\n",
       "  'HTTPStatusCode': 200,\n",
       "  'HTTPHeaders': {'x-amz-id-2': 'O1HehM6ElwVrdF8v1i/la5zNRo68Vnia/iVSkArcRYBilSAlpMlqgr2fLPXLx/YYH2Urr9Ak/8E=',\n",
       "   'x-amz-request-id': 'PPEE2EW1BD7KPHNJ',\n",
       "   'date': 'Sun, 04 Apr 2021 00:29:24 GMT',\n",
       "   'location': 'http://testeheliomar.s3.amazonaws.com/',\n",
       "   'content-length': '0',\n",
       "   'server': 'AmazonS3'},\n",
       "  'RetryAttempts': 0},\n",
       " 'Location': 'http://testeheliomar.s3.amazonaws.com/'}"
      ]
     },
     "execution_count": 8,
     "metadata": {},
     "output_type": "execute_result"
    }
   ],
   "source": [
    "#create a bucket with the name testeheliomar. The locationsConstraint is mandatory, otherwise there will be erros\n",
    "client.create_bucket(Bucket = \"testeheliomar\",\n",
    "                    CreateBucketConfiguration={'LocationConstraint': 'us-east-2'})"
   ]
  },
  {
   "cell_type": "code",
   "execution_count": 9,
   "metadata": {
    "ExecuteTime": {
     "end_time": "2021-04-04T00:45:21.208707Z",
     "start_time": "2021-04-04T00:45:20.238954Z"
    }
   },
   "outputs": [],
   "source": [
    "#list of all buckets\n",
    "response = client.list_buckets()"
   ]
  },
  {
   "cell_type": "code",
   "execution_count": 10,
   "metadata": {
    "ExecuteTime": {
     "end_time": "2021-04-04T00:45:24.675783Z",
     "start_time": "2021-04-04T00:45:24.655773Z"
    }
   },
   "outputs": [
    {
     "data": {
      "text/plain": [
       "{'ResponseMetadata': {'RequestId': 'B557JQFJ76N9TSH2',\n",
       "  'HostId': 'BH/mSO77z1wuJE+dcaSpQKvkg1b6PpCE5XVkolaxdQuXtZJZdNEcIOaJAxjlXKKubywB3FAuoBI=',\n",
       "  'HTTPStatusCode': 200,\n",
       "  'HTTPHeaders': {'x-amz-id-2': 'BH/mSO77z1wuJE+dcaSpQKvkg1b6PpCE5XVkolaxdQuXtZJZdNEcIOaJAxjlXKKubywB3FAuoBI=',\n",
       "   'x-amz-request-id': 'B557JQFJ76N9TSH2',\n",
       "   'date': 'Sun, 04 Apr 2021 00:45:22 GMT',\n",
       "   'content-type': 'application/xml',\n",
       "   'transfer-encoding': 'chunked',\n",
       "   'server': 'AmazonS3'},\n",
       "  'RetryAttempts': 0},\n",
       " 'Buckets': [{'Name': 'testeheliomar',\n",
       "   'CreationDate': datetime.datetime(2021, 4, 4, 0, 29, 24, tzinfo=tzutc())}],\n",
       " 'Owner': {'DisplayName': 'heliomar93',\n",
       "  'ID': 'f251b8a133b38e6c921bd7990827d47c6838f8a2dca37b11687ffbe5bc0ac216'}}"
      ]
     },
     "execution_count": 10,
     "metadata": {},
     "output_type": "execute_result"
    }
   ],
   "source": [
    "response"
   ]
  },
  {
   "cell_type": "code",
   "execution_count": 15,
   "metadata": {
    "ExecuteTime": {
     "end_time": "2021-04-04T00:47:19.380483Z",
     "start_time": "2021-04-04T00:47:19.369467Z"
    }
   },
   "outputs": [
    {
     "data": {
      "text/plain": [
       "'BH/mSO77z1wuJE+dcaSpQKvkg1b6PpCE5XVkolaxdQuXtZJZdNEcIOaJAxjlXKKubywB3FAuoBI='"
      ]
     },
     "execution_count": 15,
     "metadata": {},
     "output_type": "execute_result"
    }
   ],
   "source": [
    "response['ResponseMetadata'][\"HostId\"]"
   ]
  },
  {
   "cell_type": "code",
   "execution_count": 16,
   "metadata": {
    "ExecuteTime": {
     "end_time": "2021-04-04T00:57:28.302220Z",
     "start_time": "2021-04-04T00:57:28.295232Z"
    }
   },
   "outputs": [],
   "source": [
    "#uploadfiles\n",
    "def upload_files(file_name , bucket, object_name = None, args = None):\n",
    "    \"\"\"\n",
    "    file_name: file name on local storage\n",
    "    bucket: name of the bucket on S3\n",
    "    object_name: name of the file on S3, if it's none will be assumed as the file_name\n",
    "    \"\"\"\n",
    "    \n",
    "    if object_name==None:\n",
    "        object_name=file_name\n",
    "    \n",
    "    response = client.upload_file(file_name, bucket, object_name, ExtraArgs = args)\n",
    "    print(response)"
   ]
  },
  {
   "cell_type": "code",
   "execution_count": 31,
   "metadata": {
    "ExecuteTime": {
     "end_time": "2021-04-04T01:14:02.720789Z",
     "start_time": "2021-04-04T01:14:02.666463Z"
    }
   },
   "outputs": [
    {
     "name": "stdout",
     "output_type": "stream",
     "text": [
      "C:\\Users\\heliomar\\Documents\\learn_aws\n"
     ]
    }
   ],
   "source": [
    "cd \"C:\\Users\\heliomar\\Documents\\learn_aws\"\n"
   ]
  },
  {
   "cell_type": "code",
   "execution_count": 32,
   "metadata": {
    "ExecuteTime": {
     "end_time": "2021-04-04T01:14:06.376203Z",
     "start_time": "2021-04-04T01:14:05.454330Z"
    }
   },
   "outputs": [
    {
     "name": "stdout",
     "output_type": "stream",
     "text": [
      "None\n"
     ]
    }
   ],
   "source": [
    "upload_files(\"download.jpg\",\"testeheliomar\")"
   ]
  },
  {
   "cell_type": "code",
   "execution_count": 33,
   "metadata": {
    "ExecuteTime": {
     "end_time": "2021-04-04T20:02:04.755968Z",
     "start_time": "2021-04-04T20:02:03.951011Z"
    }
   },
   "outputs": [],
   "source": [
    "import glob"
   ]
  },
  {
   "cell_type": "code",
   "execution_count": 50,
   "metadata": {
    "ExecuteTime": {
     "end_time": "2021-04-04T20:09:04.161173Z",
     "start_time": "2021-04-04T20:09:04.145186Z"
    }
   },
   "outputs": [],
   "source": [
    "files = glob.glob('./*')"
   ]
  },
  {
   "cell_type": "code",
   "execution_count": 51,
   "metadata": {
    "ExecuteTime": {
     "end_time": "2021-04-04T20:09:06.228712Z",
     "start_time": "2021-04-04T20:09:06.207722Z"
    }
   },
   "outputs": [
    {
     "data": {
      "text/plain": [
       "['.\\\\download.jpg', '.\\\\s3-checkpoint.ipynb', '.\\\\s3.ipynb']"
      ]
     },
     "execution_count": 51,
     "metadata": {},
     "output_type": "execute_result"
    }
   ],
   "source": [
    "files"
   ]
  },
  {
   "cell_type": "code",
   "execution_count": 52,
   "metadata": {
    "ExecuteTime": {
     "end_time": "2021-04-04T20:09:17.707444Z",
     "start_time": "2021-04-04T20:09:15.891968Z"
    }
   },
   "outputs": [
    {
     "name": "stdout",
     "output_type": "stream",
     "text": [
      "None\n",
      "None\n",
      "None\n"
     ]
    }
   ],
   "source": [
    "for file in files:\n",
    "    upload_files(file,\"testeheliomar\")"
   ]
  },
  {
   "cell_type": "code",
   "execution_count": null,
   "metadata": {},
   "outputs": [],
   "source": []
  }
 ],
 "metadata": {
  "kernelspec": {
   "display_name": "Python 3",
   "language": "python",
   "name": "python3"
  },
  "language_info": {
   "codemirror_mode": {
    "name": "ipython",
    "version": 3
   },
   "file_extension": ".py",
   "mimetype": "text/x-python",
   "name": "python",
   "nbconvert_exporter": "python",
   "pygments_lexer": "ipython3",
   "version": "3.8.5"
  },
  "toc": {
   "base_numbering": 1,
   "nav_menu": {},
   "number_sections": true,
   "sideBar": true,
   "skip_h1_title": false,
   "title_cell": "Table of Contents",
   "title_sidebar": "Contents",
   "toc_cell": false,
   "toc_position": {},
   "toc_section_display": true,
   "toc_window_display": false
  },
  "varInspector": {
   "cols": {
    "lenName": 16,
    "lenType": 16,
    "lenVar": 40
   },
   "kernels_config": {
    "python": {
     "delete_cmd_postfix": "",
     "delete_cmd_prefix": "del ",
     "library": "var_list.py",
     "varRefreshCmd": "print(var_dic_list())"
    },
    "r": {
     "delete_cmd_postfix": ") ",
     "delete_cmd_prefix": "rm(",
     "library": "var_list.r",
     "varRefreshCmd": "cat(var_dic_list()) "
    }
   },
   "types_to_exclude": [
    "module",
    "function",
    "builtin_function_or_method",
    "instance",
    "_Feature"
   ],
   "window_display": false
  }
 },
 "nbformat": 4,
 "nbformat_minor": 4
}
